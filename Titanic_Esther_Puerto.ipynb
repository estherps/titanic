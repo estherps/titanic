{
  "nbformat": 4,
  "nbformat_minor": 0,
  "metadata": {
    "colab": {
      "name": "Titanic_Esther_Puerto.ipynb",
      "version": "0.3.2",
      "provenance": [],
      "collapsed_sections": []
    },
    "kernelspec": {
      "name": "python3",
      "display_name": "Python 3"
    }
  },
  "cells": [
    {
      "metadata": {
        "id": "v0A8P8Tn_beI",
        "colab_type": "text"
      },
      "cell_type": "markdown",
      "source": [
        "#Titanic"
      ]
    },
    {
      "metadata": {
        "id": "Epf9OaBn_jfk",
        "colab_type": "text"
      },
      "cell_type": "markdown",
      "source": [
        "###2-Cargamos el Dataset titanic.csv y ponemos como índice el nombre del pasajero"
      ]
    },
    {
      "metadata": {
        "id": "UeiPls67_pcG",
        "colab_type": "code",
        "colab": {}
      },
      "cell_type": "code",
      "source": [
        "import pandas as pd\n",
        "titanic=pd.read_csv('https://raw.githubusercontent.com/estherps/titanic/master/titanic.csv', index_col=3, sep='\\t')"
      ],
      "execution_count": 0,
      "outputs": []
    },
    {
      "metadata": {
        "id": "aBWDt803_9xW",
        "colab_type": "text"
      },
      "cell_type": "markdown",
      "source": [
        "###3-Eliminamos las columnas ticket number y cabina"
      ]
    },
    {
      "metadata": {
        "id": "CQuMQEJQAEcQ",
        "colab_type": "code",
        "outputId": "f9f0a049-62ec-4a5c-e28b-16897845b6ca",
        "colab": {
          "base_uri": "https://localhost:8080/",
          "height": 35
        }
      },
      "cell_type": "code",
      "source": [
        "titanic = titanic.drop(['Ticket', 'Cabin'], axis=1)\n",
        "print(titanic.shape)"
      ],
      "execution_count": 2,
      "outputs": [
        {
          "output_type": "stream",
          "text": [
            "(156, 9)\n"
          ],
          "name": "stdout"
        }
      ]
    },
    {
      "metadata": {
        "id": "rBmnYnnnAifm",
        "colab_type": "text"
      },
      "cell_type": "markdown",
      "source": [
        "### 4- Análisis de las columnas y sustitución de valores nulos\n"
      ]
    },
    {
      "metadata": {
        "id": "XZAB1PC8LoIb",
        "colab_type": "text"
      },
      "cell_type": "markdown",
      "source": [
        "Vemos en qué columnas hay valores nulos:"
      ]
    },
    {
      "metadata": {
        "id": "z5IRBHeUAvDx",
        "colab_type": "code",
        "outputId": "f2cf8a60-1070-4cf1-ee64-93ec3b75e231",
        "colab": {
          "base_uri": "https://localhost:8080/",
          "height": 191
        }
      },
      "cell_type": "code",
      "source": [
        "missing_values_count=titanic.isnull().sum()\n",
        "print(missing_values_count)"
      ],
      "execution_count": 3,
      "outputs": [
        {
          "output_type": "stream",
          "text": [
            "PassengerId     0\n",
            "Survived        0\n",
            "Pclass          0\n",
            "Sex             0\n",
            "Age            30\n",
            "SibSp           0\n",
            "Parch           0\n",
            "Fare            0\n",
            "Embarked        1\n",
            "dtype: int64\n"
          ],
          "name": "stdout"
        }
      ]
    },
    {
      "metadata": {
        "id": "xUIZoJW1iCvD",
        "colab_type": "text"
      },
      "cell_type": "markdown",
      "source": [
        "Observamos que tanto la columna \"Age\" como \"Embarked\" tienen valores Nulos. Vamos a proceder a rellenar esos valores con la media en el caso de \"Age\" por ser una variable numérica y con la moda en el caso de \"Embarked\" por ser categórica.\n",
        "Calculamos la media de \"Age\" y Moda de \"Embarked\"."
      ]
    },
    {
      "metadata": {
        "id": "PB19_FnUWa8o",
        "colab_type": "code",
        "outputId": "6ac7d759-19c0-419b-bba0-a0ce5d516de6",
        "colab": {
          "base_uri": "https://localhost:8080/",
          "height": 69
        }
      },
      "cell_type": "code",
      "source": [
        "media = titanic[\"Age\"].mean()\n",
        "print(\"Esta es la media\",media, \"de Age\" )\n",
        "moda = titanic[\"Embarked\"].mode()\n",
        "print(\"Esta es la moda\", moda, \"de Embarked\")"
      ],
      "execution_count": 4,
      "outputs": [
        {
          "output_type": "stream",
          "text": [
            "Esta es la media 28.141507936507935 de Age\n",
            "Esta es la moda 0    S\n",
            "dtype: object de Embarked\n"
          ],
          "name": "stdout"
        }
      ]
    },
    {
      "metadata": {
        "id": "AYRn4OZwXi0b",
        "colab_type": "text"
      },
      "cell_type": "markdown",
      "source": [
        "Rellenamos los valores nulos de la columna \"Age\" con su media que hemos visto que es 28,14."
      ]
    },
    {
      "metadata": {
        "id": "p2UxuRjlPMnu",
        "colab_type": "code",
        "outputId": "716188d0-b437-41b4-d648-2854964be8ed",
        "colab": {
          "base_uri": "https://localhost:8080/",
          "height": 72
        }
      },
      "cell_type": "code",
      "source": [
        "from sklearn.preprocessing import Imputer\n",
        "imp=Imputer(missing_values=\"NaN\", strategy=\"mean\" )\n",
        "imp.fit(titanic[[\"Age\"]])\n",
        "titanic[\"Age\"]=imp.transform(titanic[[\"Age\"]])"
      ],
      "execution_count": 5,
      "outputs": [
        {
          "output_type": "stream",
          "text": [
            "/usr/local/lib/python3.6/dist-packages/sklearn/utils/deprecation.py:58: DeprecationWarning: Class Imputer is deprecated; Imputer was deprecated in version 0.20 and will be removed in 0.22. Import impute.SimpleImputer from sklearn instead.\n",
            "  warnings.warn(msg, category=DeprecationWarning)\n"
          ],
          "name": "stderr"
        }
      ]
    },
    {
      "metadata": {
        "id": "WpDnoiy-ieHa",
        "colab_type": "text"
      },
      "cell_type": "markdown",
      "source": [
        "Rellenamos el valor nulo de la columna \"Embarked\" con S,  que es el valor más repetido."
      ]
    },
    {
      "metadata": {
        "id": "4uKbyYEdgWI2",
        "colab_type": "code",
        "colab": {}
      },
      "cell_type": "code",
      "source": [
        "titanic['Embarked'] = titanic['Embarked'].fillna(\"S\")"
      ],
      "execution_count": 0,
      "outputs": []
    },
    {
      "metadata": {
        "id": "-o-DTooWipny",
        "colab_type": "text"
      },
      "cell_type": "markdown",
      "source": [
        "Calculamos si sigue habiendo algún valor nulo y vemos que no hay."
      ]
    },
    {
      "metadata": {
        "id": "aZYCxM4eSHfd",
        "colab_type": "code",
        "outputId": "401d5c41-7f3b-410f-9629-681030ff4222",
        "colab": {
          "base_uri": "https://localhost:8080/",
          "height": 191
        }
      },
      "cell_type": "code",
      "source": [
        "missing_values_count=titanic.isnull().sum()\n",
        "print(missing_values_count)"
      ],
      "execution_count": 7,
      "outputs": [
        {
          "output_type": "stream",
          "text": [
            "PassengerId    0\n",
            "Survived       0\n",
            "Pclass         0\n",
            "Sex            0\n",
            "Age            0\n",
            "SibSp          0\n",
            "Parch          0\n",
            "Fare           0\n",
            "Embarked       0\n",
            "dtype: int64\n"
          ],
          "name": "stdout"
        }
      ]
    },
    {
      "metadata": {
        "id": "tRXFzpC2TdeT",
        "colab_type": "text"
      },
      "cell_type": "markdown",
      "source": [
        "Creamos la variable \"Survived_etiqueta\" con la etiqueta de la variable \"Survived\". 0 es No y 1 Si."
      ]
    },
    {
      "metadata": {
        "id": "Grqm3iREa3hr",
        "colab_type": "code",
        "colab": {}
      },
      "cell_type": "code",
      "source": [
        "import numpy as np\n",
        "titanic['Survived_etiqueta'] = np.where(titanic.Survived == 0, 'No', 'Yes')"
      ],
      "execution_count": 0,
      "outputs": []
    },
    {
      "metadata": {
        "id": "C5jpKP7YKqrJ",
        "colab_type": "text"
      },
      "cell_type": "markdown",
      "source": [
        "Categorizamos la variable Sexo: Male- 0 y Female -1"
      ]
    },
    {
      "metadata": {
        "id": "BNkUJ3tL0Qvw",
        "colab_type": "code",
        "colab": {}
      },
      "cell_type": "code",
      "source": [
        "titanic['Sex'] = np.where(titanic.Sex == 'male' , 0, 1)\n"
      ],
      "execution_count": 0,
      "outputs": []
    },
    {
      "metadata": {
        "id": "yocT1hOfKvlQ",
        "colab_type": "text"
      },
      "cell_type": "markdown",
      "source": [
        "Categorizamos la variable Embarked: C-0, Q-1 y S-2"
      ]
    },
    {
      "metadata": {
        "id": "qfyy7-VP89v2",
        "colab_type": "code",
        "outputId": "f0cf69e5-ac37-4185-99a9-b6057e2d117e",
        "colab": {
          "base_uri": "https://localhost:8080/",
          "height": 277
        }
      },
      "cell_type": "code",
      "source": [
        "\n",
        "titanic.Embarked[titanic.Embarked == 'C'] = 0\n",
        "titanic.Embarked[titanic.Embarked == 'Q'] = 1\n",
        "titanic.Embarked[titanic.Embarked == 'S'] = 2"
      ],
      "execution_count": 10,
      "outputs": [
        {
          "output_type": "stream",
          "text": [
            "/usr/local/lib/python3.6/dist-packages/ipykernel_launcher.py:2: SettingWithCopyWarning: \n",
            "A value is trying to be set on a copy of a slice from a DataFrame\n",
            "\n",
            "See the caveats in the documentation: http://pandas.pydata.org/pandas-docs/stable/indexing.html#indexing-view-versus-copy\n",
            "  \n",
            "/usr/local/lib/python3.6/dist-packages/ipykernel_launcher.py:3: SettingWithCopyWarning: \n",
            "A value is trying to be set on a copy of a slice from a DataFrame\n",
            "\n",
            "See the caveats in the documentation: http://pandas.pydata.org/pandas-docs/stable/indexing.html#indexing-view-versus-copy\n",
            "  This is separate from the ipykernel package so we can avoid doing imports until\n",
            "/usr/local/lib/python3.6/dist-packages/ipykernel_launcher.py:4: SettingWithCopyWarning: \n",
            "A value is trying to be set on a copy of a slice from a DataFrame\n",
            "\n",
            "See the caveats in the documentation: http://pandas.pydata.org/pandas-docs/stable/indexing.html#indexing-view-versus-copy\n",
            "  after removing the cwd from sys.path.\n"
          ],
          "name": "stderr"
        }
      ]
    },
    {
      "metadata": {
        "id": "0zq3BPrna3HY",
        "colab_type": "text"
      },
      "cell_type": "markdown",
      "source": [
        "Hacemos un conteo de cuántos No han sobrevivido y cuántos Sí han sobrevivido"
      ]
    },
    {
      "metadata": {
        "id": "3FWub5hhdskr",
        "colab_type": "code",
        "outputId": "39c234ef-fd3a-4154-d7d8-b670a4884add",
        "colab": {
          "base_uri": "https://localhost:8080/",
          "height": 52
        }
      },
      "cell_type": "code",
      "source": [
        "diagnosis_all=list(titanic.shape)[0]\n",
        "diagnosis_categories = list(titanic['Survived'].value_counts())\n",
        "print(\"\\n \\t The data has {} diagnosis, {} No and {} Yes.\".format(diagnosis_all, diagnosis_categories[0],diagnosis_categories[1]))"
      ],
      "execution_count": 11,
      "outputs": [
        {
          "output_type": "stream",
          "text": [
            "\n",
            " \t The data has 156 diagnosis, 102 No and 54 Yes.\n"
          ],
          "name": "stdout"
        }
      ]
    },
    {
      "metadata": {
        "id": "3PnoGraUfjPx",
        "colab_type": "text"
      },
      "cell_type": "markdown",
      "source": [
        "### 5- Separamos el dataset en Train y Test"
      ]
    },
    {
      "metadata": {
        "id": "-IZGz-c7fhv8",
        "colab_type": "code",
        "colab": {}
      },
      "cell_type": "code",
      "source": [
        "from sklearn.model_selection import train_test_split"
      ],
      "execution_count": 0,
      "outputs": []
    },
    {
      "metadata": {
        "id": "WtYGmsDvf1jj",
        "colab_type": "code",
        "colab": {}
      },
      "cell_type": "code",
      "source": [
        "\n",
        "x = titanic.loc[:, ['PassengerId', 'Pclass', 'Sex', 'Age', 'SibSp', 'Parch', 'Fare', 'Embarked']]\n",
        "y= titanic.loc[:, 'Survived']\n",
        "\n",
        "x_train, x_test, y_train, y_test = train_test_split(x, y, test_size = 0.2, random_state=42)\n"
      ],
      "execution_count": 0,
      "outputs": []
    },
    {
      "metadata": {
        "id": "2kK6zfC2iIFT",
        "colab_type": "text"
      },
      "cell_type": "markdown",
      "source": [
        "Vemos como está formado el modelo, cuantos casos son de Train y cuántos son de Test. Entrenamiento 124 casos y 32 casos de Test."
      ]
    },
    {
      "metadata": {
        "id": "TiHj6VNCiQMx",
        "colab_type": "code",
        "outputId": "b9e7ff59-defe-4b03-eb0d-b5bf0ff7bc0d",
        "colab": {
          "base_uri": "https://localhost:8080/",
          "height": 87
        }
      },
      "cell_type": "code",
      "source": [
        "print(x_train.shape)\n",
        "print(x_test.shape)\n",
        "print(y_train.shape)\n",
        "print(y_test.shape)"
      ],
      "execution_count": 14,
      "outputs": [
        {
          "output_type": "stream",
          "text": [
            "(124, 8)\n",
            "(32, 8)\n",
            "(124,)\n",
            "(32,)\n"
          ],
          "name": "stdout"
        }
      ]
    },
    {
      "metadata": {
        "id": "kzB6f7pairaF",
        "colab_type": "text"
      },
      "cell_type": "markdown",
      "source": [
        "### 6- Entrenamiento de los diferentes clasificadores para predecir la variable \"Survived\""
      ]
    },
    {
      "metadata": {
        "id": "ffToKpyxiyNq",
        "colab_type": "text"
      },
      "cell_type": "markdown",
      "source": [
        "#### 6.1 - Clasificador: DecisionTreeClassifier"
      ]
    },
    {
      "metadata": {
        "id": "qbCMiGCuPpnW",
        "colab_type": "text"
      },
      "cell_type": "markdown",
      "source": [
        "Creamos el objeto clasificador utilizando el método de **árbol de decisión:**"
      ]
    },
    {
      "metadata": {
        "id": "b5QnzKqFjOIY",
        "colab_type": "code",
        "colab": {}
      },
      "cell_type": "code",
      "source": [
        "from sklearn import tree\n",
        "my_tree = tree.DecisionTreeClassifier()"
      ],
      "execution_count": 0,
      "outputs": []
    },
    {
      "metadata": {
        "id": "Y8kH1eTYRl0n",
        "colab_type": "text"
      },
      "cell_type": "markdown",
      "source": [
        "Entrenamos el modelo con x_train e y_train:"
      ]
    },
    {
      "metadata": {
        "colab_type": "code",
        "id": "xRbEGB5vvaja",
        "outputId": "f3320070-2dc9-4982-b494-f43aa277311e",
        "colab": {
          "base_uri": "https://localhost:8080/",
          "height": 121
        }
      },
      "cell_type": "code",
      "source": [
        "print(my_tree.fit(x_train, y_train))"
      ],
      "execution_count": 16,
      "outputs": [
        {
          "output_type": "stream",
          "text": [
            "DecisionTreeClassifier(class_weight=None, criterion='gini', max_depth=None,\n",
            "            max_features=None, max_leaf_nodes=None,\n",
            "            min_impurity_decrease=0.0, min_impurity_split=None,\n",
            "            min_samples_leaf=1, min_samples_split=2,\n",
            "            min_weight_fraction_leaf=0.0, presort=False, random_state=None,\n",
            "            splitter='best')\n"
          ],
          "name": "stdout"
        }
      ]
    },
    {
      "metadata": {
        "id": "VYhunsklShlN",
        "colab_type": "text"
      },
      "cell_type": "markdown",
      "source": [
        "Vemos lo bueno que es nuestro modelo, la precisión:"
      ]
    },
    {
      "metadata": {
        "id": "tXWeIHRZjdJu",
        "colab_type": "code",
        "outputId": "aa76af1b-4838-4d9f-b3ff-a4dafa045ec3",
        "colab": {
          "base_uri": "https://localhost:8080/",
          "height": 52
        }
      },
      "cell_type": "code",
      "source": [
        "print('Accuracy of Decision Tree classifier on training set: {:.2f}'\n",
        "     .format(my_tree.score(x_train, y_train)))\n",
        "print('Accuracy of Decision Tree classifier on test set: {:.2f}'\n",
        "     .format(my_tree.score(x_test, y_test)))"
      ],
      "execution_count": 17,
      "outputs": [
        {
          "output_type": "stream",
          "text": [
            "Accuracy of Decision Tree classifier on training set: 1.00\n",
            "Accuracy of Decision Tree classifier on test set: 0.75\n"
          ],
          "name": "stdout"
        }
      ]
    },
    {
      "metadata": {
        "id": "3Ny6xMcLTEpD",
        "colab_type": "text"
      },
      "cell_type": "markdown",
      "source": [
        "Observamos que nuestro modelo de entrenamiento tiene una precisión de 1, el valor máximo, por lo que se ajusta perfectamente a los datos que tiene para entrenar."
      ]
    },
    {
      "metadata": {
        "id": "BVfWygDSV5kU",
        "colab_type": "text"
      },
      "cell_type": "markdown",
      "source": [
        "Para evaluar lo bueno que es nuestro modelo, primero predecimos y lo vemos con valores reales. Vemos que tenemos una precisión de 0.75 ; es decir, el 75% de las veces acierta nuestro modelo."
      ]
    },
    {
      "metadata": {
        "id": "uRUvDGYLjmZs",
        "colab_type": "code",
        "colab": {}
      },
      "cell_type": "code",
      "source": [
        "from sklearn import metrics\n",
        "prediction=my_tree.predict(x_test)"
      ],
      "execution_count": 0,
      "outputs": []
    },
    {
      "metadata": {
        "id": "JSgZ4ANzjnIy",
        "colab_type": "code",
        "outputId": "22763de1-6058-4a9f-82f9-7f73501b7403",
        "colab": {
          "base_uri": "https://localhost:8080/",
          "height": 52
        }
      },
      "cell_type": "code",
      "source": [
        "print(prediction)\n",
        "print(\"Accuracy {:.2f} \".format(metrics.accuracy_score(prediction,y_test)))"
      ],
      "execution_count": 19,
      "outputs": [
        {
          "output_type": "stream",
          "text": [
            "[0 0 1 0 0 0 0 0 0 0 1 0 0 0 1 0 0 0 0 0 1 1 0 1 1 0 0 0 0 0 0 0]\n",
            "Accuracy 0.75 \n"
          ],
          "name": "stdout"
        }
      ]
    },
    {
      "metadata": {
        "id": "cXvgMdoRZfn8",
        "colab_type": "text"
      },
      "cell_type": "markdown",
      "source": [
        "Juntamos en un dataset los valores predichos y reales. "
      ]
    },
    {
      "metadata": {
        "colab_type": "code",
        "id": "uPnwU0yIvU7Z",
        "outputId": "99ad2042-bd7c-46b3-b97f-31573d42d738",
        "colab": {
          "base_uri": "https://localhost:8080/",
          "height": 121
        }
      },
      "cell_type": "code",
      "source": [
        "test_predictions = pd.DataFrame(list(zip(prediction, y_test)), columns=['predicted', 'real'])\n",
        "test_predictions.groupby(['predicted', 'real']).apply(lambda x: len(x))\n",
        "print(pd.DataFrame(test_predictions.groupby(['predicted', 'real']).size()))"
      ],
      "execution_count": 20,
      "outputs": [
        {
          "output_type": "stream",
          "text": [
            "                 0\n",
            "predicted real    \n",
            "0         0     19\n",
            "          1      6\n",
            "1         0      2\n",
            "          1      5\n"
          ],
          "name": "stdout"
        }
      ]
    },
    {
      "metadata": {
        "id": "qDt6m6k0jypC",
        "colab_type": "text"
      },
      "cell_type": "markdown",
      "source": [
        "Hemos detectado 19 personas que no sobrevivieron y se han predicho correctamente. Hemos detectado 6 personas que no sobrevivieron pero que realmente sobrevivieron. Hemos detectado 5 casos que sobrevivieron y realemente sobrevivieron, pero 2 casos que sobrevivieron y en realidad no sobrevivieron."
      ]
    },
    {
      "metadata": {
        "id": "LHznfOirjqRk",
        "colab_type": "text"
      },
      "cell_type": "markdown",
      "source": [
        "**Matriz de confusión** para ver que valores han sido correctamente predichos y cuales no."
      ]
    },
    {
      "metadata": {
        "colab_type": "code",
        "id": "Nsq0H8I5vVjB",
        "colab": {}
      },
      "cell_type": "code",
      "source": [
        "from sklearn.metrics import confusion_matrix\n",
        "confusion = confusion_matrix(y_test, prediction)"
      ],
      "execution_count": 0,
      "outputs": []
    },
    {
      "metadata": {
        "colab_type": "code",
        "id": "BZUtiCbAvWXN",
        "outputId": "6445e704-d18c-447f-ae0a-876168b77398",
        "colab": {
          "base_uri": "https://localhost:8080/",
          "height": 69
        }
      },
      "cell_type": "code",
      "source": [
        "print('Decision tree classifier (max_depth = 2)\\n', confusion)"
      ],
      "execution_count": 22,
      "outputs": [
        {
          "output_type": "stream",
          "text": [
            "Decision tree classifier (max_depth = 2)\n",
            " [[19  2]\n",
            " [ 6  5]]\n"
          ],
          "name": "stdout"
        }
      ]
    },
    {
      "metadata": {
        "colab_type": "code",
        "id": "7rviTfGUvW-3",
        "colab": {}
      },
      "cell_type": "code",
      "source": [
        "import seaborn as sns\n",
        "import matplotlib.pyplot as plt\n",
        "from sklearn.metrics import accuracy_score\n",
        "from sklearn.metrics import precision_score\n",
        "df_cm = pd.DataFrame(confusion, index = [i for i in range(0,2)], columns = [i for i in range(0,2)])"
      ],
      "execution_count": 0,
      "outputs": []
    },
    {
      "metadata": {
        "colab_type": "code",
        "id": "wDpFmf5kvX2s",
        "outputId": "b589cc14-4ba2-43c7-8133-d9ba485baba3",
        "colab": {
          "base_uri": "https://localhost:8080/",
          "height": 328
        }
      },
      "cell_type": "code",
      "source": [
        "plt.figure(figsize=(5.5,4))\n",
        "sns.heatmap(df_cm, annot=True)\n",
        "plt.title('Tree Classifier \\nAccuracy:{0:.3f}'.format(accuracy_score(y_test, prediction)))\n",
        "plt.ylabel('True label')\n",
        "plt.xlabel('Predicted label')"
      ],
      "execution_count": 24,
      "outputs": [
        {
          "output_type": "execute_result",
          "data": {
            "text/plain": [
              "Text(0.5, 15.0, 'Predicted label')"
            ]
          },
          "metadata": {
            "tags": []
          },
          "execution_count": 24
        },
        {
          "output_type": "display_data",
          "data": {
            "image/png": "[encoded data removed]",
            "text/plain": [
              "<Figure size 396x288 with 2 Axes>"
            ]
          },
          "metadata": {
            "tags": []
          }
        }
      ]
    },
    {
      "metadata": {
        "colab_type": "code",
        "id": "wC4B7UngvYmO",
        "outputId": "b7772d18-0698-45c6-8bf5-9ca3d9d55601",
        "colab": {
          "base_uri": "https://localhost:8080/",
          "height": 173
        }
      },
      "cell_type": "code",
      "source": [
        "from sklearn.metrics import classification_report\n",
        "print(classification_report(y_test, prediction))"
      ],
      "execution_count": 25,
      "outputs": [
        {
          "output_type": "stream",
          "text": [
            "              precision    recall  f1-score   support\n",
            "\n",
            "           0       0.76      0.90      0.83        21\n",
            "           1       0.71      0.45      0.56        11\n",
            "\n",
            "   micro avg       0.75      0.75      0.75        32\n",
            "   macro avg       0.74      0.68      0.69        32\n",
            "weighted avg       0.74      0.75      0.73        32\n",
            "\n"
          ],
          "name": "stdout"
        }
      ]
    },
    {
      "metadata": {
        "id": "kqFdbsPNVOkF",
        "colab_type": "text"
      },
      "cell_type": "markdown",
      "source": [
        "###Para la comparación de los clasificadores:"
      ]
    },
    {
      "metadata": {
        "id": "Bc22Uh0Vy8S_",
        "colab_type": "text"
      },
      "cell_type": "markdown",
      "source": [
        "#### 6.1 -  Clasificador: DecisionTreeClassifier"
      ]
    },
    {
      "metadata": {
        "id": "oFx54jfHrxob",
        "colab_type": "code",
        "colab": {}
      },
      "cell_type": "code",
      "source": [
        "accuracy_all = []\n",
        "cvs_all = []"
      ],
      "execution_count": 0,
      "outputs": []
    },
    {
      "metadata": {
        "id": "68UbfscXy9k9",
        "colab_type": "code",
        "outputId": "9a8b98d9-03b6-4f63-e513-8927801dd1d7",
        "colab": {
          "base_uri": "https://localhost:8080/",
          "height": 87
        }
      },
      "cell_type": "code",
      "source": [
        "from sklearn.tree import DecisionTreeClassifier\n",
        "from sklearn.model_selection import cross_val_score\n",
        "import numpy as np\n",
        "import time\n",
        "start = time.time()\n",
        "\n",
        "clf = DecisionTreeClassifier()\n",
        "clf.fit(x_train, y_train)\n",
        "prediction = clf.predict(x_test)\n",
        "scores = cross_val_score(clf, x, y, cv=5)\n",
        "\n",
        "end = time.time()\n",
        "\n",
        "accuracy_all.append(accuracy_score(prediction, y_test))\n",
        "cvs_all.append(np.mean(scores))\n",
        "\n",
        "print(\"Dedicion Tree Accuracy: {0:.2%}\".format(accuracy_score(prediction, y_test)))\n",
        "print(\"Cross validation score: {0:.2%} (+/- {1:.2%})\".format(np.mean(scores), np.std(scores)*2))\n",
        "print(\"Execution time: {0:.5} seconds \\n\".format(end-start))\n"
      ],
      "execution_count": 27,
      "outputs": [
        {
          "output_type": "stream",
          "text": [
            "Dedicion Tree Accuracy: 75.00%\n",
            "Cross validation score: 59.85% (+/- 29.30%)\n",
            "Execution time: 0.031855 seconds \n",
            "\n"
          ],
          "name": "stdout"
        }
      ]
    },
    {
      "metadata": {
        "colab_type": "text",
        "id": "mDoEtxtwvZdA"
      },
      "cell_type": "markdown",
      "source": [
        "#### 6.2 - Clasificador: SGDClassifier"
      ]
    },
    {
      "metadata": {
        "id": "sFuqmy88r75H",
        "colab_type": "code",
        "outputId": "e15a99c3-ede0-400b-a985-d1f2fb9fb501",
        "colab": {
          "base_uri": "https://localhost:8080/",
          "height": 315
        }
      },
      "cell_type": "code",
      "source": [
        "from sklearn.linear_model import SGDClassifier\n",
        "from sklearn.model_selection import cross_val_score\n",
        "import numpy as np\n",
        "import time\n",
        "\n",
        "start = time.time()\n",
        "\n",
        "clf = SGDClassifier()\n",
        "clf.fit(x_train, y_train)\n",
        "prediction = clf.predict(x_test)\n",
        "scores = cross_val_score(clf, x, y, cv=5)\n",
        "\n",
        "end = time.time()\n",
        "\n",
        "accuracy_all.append(accuracy_score(prediction, y_test))\n",
        "cvs_all.append(np.mean(scores))\n",
        "\n",
        "print(\"SGD Classifier Accuracy: {0:.2%}\".format(accuracy_score(prediction, y_test)))\n",
        "print(\"Cross validation score: {0:.2%} (+/- {1:.2%})\".format(np.mean(scores), np.std(scores)*2))\n",
        "print(\"Execution time: {0:.5} seconds \\n\".format(end-start))"
      ],
      "execution_count": 28,
      "outputs": [
        {
          "output_type": "stream",
          "text": [
            "SGD Classifier Accuracy: 34.38%\n",
            "Cross validation score: 52.06% (+/- 28.65%)\n",
            "Execution time: 0.029255 seconds \n",
            "\n"
          ],
          "name": "stdout"
        },
        {
          "output_type": "stream",
          "text": [
            "/usr/local/lib/python3.6/dist-packages/sklearn/linear_model/stochastic_gradient.py:166: FutureWarning: max_iter and tol parameters have been added in SGDClassifier in 0.19. If both are left unset, they default to max_iter=5 and tol=None. If tol is not None, max_iter defaults to max_iter=1000. From 0.21, default max_iter will be 1000, and default tol will be 1e-3.\n",
            "  FutureWarning)\n",
            "/usr/local/lib/python3.6/dist-packages/sklearn/linear_model/stochastic_gradient.py:166: FutureWarning: max_iter and tol parameters have been added in SGDClassifier in 0.19. If both are left unset, they default to max_iter=5 and tol=None. If tol is not None, max_iter defaults to max_iter=1000. From 0.21, default max_iter will be 1000, and default tol will be 1e-3.\n",
            "  FutureWarning)\n",
            "/usr/local/lib/python3.6/dist-packages/sklearn/linear_model/stochastic_gradient.py:166: FutureWarning: max_iter and tol parameters have been added in SGDClassifier in 0.19. If both are left unset, they default to max_iter=5 and tol=None. If tol is not None, max_iter defaults to max_iter=1000. From 0.21, default max_iter will be 1000, and default tol will be 1e-3.\n",
            "  FutureWarning)\n",
            "/usr/local/lib/python3.6/dist-packages/sklearn/linear_model/stochastic_gradient.py:166: FutureWarning: max_iter and tol parameters have been added in SGDClassifier in 0.19. If both are left unset, they default to max_iter=5 and tol=None. If tol is not None, max_iter defaults to max_iter=1000. From 0.21, default max_iter will be 1000, and default tol will be 1e-3.\n",
            "  FutureWarning)\n",
            "/usr/local/lib/python3.6/dist-packages/sklearn/linear_model/stochastic_gradient.py:166: FutureWarning: max_iter and tol parameters have been added in SGDClassifier in 0.19. If both are left unset, they default to max_iter=5 and tol=None. If tol is not None, max_iter defaults to max_iter=1000. From 0.21, default max_iter will be 1000, and default tol will be 1e-3.\n",
            "  FutureWarning)\n",
            "/usr/local/lib/python3.6/dist-packages/sklearn/linear_model/stochastic_gradient.py:166: FutureWarning: max_iter and tol parameters have been added in SGDClassifier in 0.19. If both are left unset, they default to max_iter=5 and tol=None. If tol is not None, max_iter defaults to max_iter=1000. From 0.21, default max_iter will be 1000, and default tol will be 1e-3.\n",
            "  FutureWarning)\n"
          ],
          "name": "stderr"
        }
      ]
    },
    {
      "metadata": {
        "id": "DXAEvMEuvf7t",
        "colab_type": "text"
      },
      "cell_type": "markdown",
      "source": [
        "#### 6.3 - RidgeClassifier"
      ]
    },
    {
      "metadata": {
        "id": "nm0JvMqLvk2u",
        "colab_type": "code",
        "outputId": "fe1ebc37-e0d9-4a09-c840-2505130f4267",
        "colab": {
          "base_uri": "https://localhost:8080/",
          "height": 87
        }
      },
      "cell_type": "code",
      "source": [
        "from sklearn.linear_model import RidgeClassifier\n",
        "from sklearn.model_selection import cross_val_score\n",
        "\n",
        "import time\n",
        "\n",
        "start = time.time()\n",
        "\n",
        "\n",
        "clf = RidgeClassifier()\n",
        "clf.fit(x_train, y_train)\n",
        "prediction = clf.predict(x_test)\n",
        "scores = cross_val_score(clf, x, y, cv=5)\n",
        "\n",
        "end = time.time()\n",
        "\n",
        "accuracy_all.append(accuracy_score(prediction, y_test))\n",
        "cvs_all.append(np.mean(scores))\n",
        "\n",
        "print(\"Ridge Classifier Accuracy: {0:.2%}\".format(accuracy_score(prediction, y_test)))\n",
        "print(\"Cross validation score: {0:.2%} (+/- {1:.2%})\".format(np.mean(scores), np.std(scores)*2))\n",
        "print(\"Execution time: {0:.5} seconds \\n\".format(end-start))\n",
        "\n"
      ],
      "execution_count": 29,
      "outputs": [
        {
          "output_type": "stream",
          "text": [
            "Ridge Classifier Accuracy: 68.75%\n",
            "Cross validation score: 80.09% (+/- 6.62%)\n",
            "Execution time: 0.057801 seconds \n",
            "\n"
          ],
          "name": "stdout"
        }
      ]
    },
    {
      "metadata": {
        "id": "7e-hWw03qsoF",
        "colab_type": "text"
      },
      "cell_type": "markdown",
      "source": [
        "#### 6.4 - KNeighborsClassifier"
      ]
    },
    {
      "metadata": {
        "id": "htLD3Pwgqxb0",
        "colab_type": "code",
        "outputId": "660a5ceb-6954-4136-9afc-8089451db895",
        "colab": {
          "base_uri": "https://localhost:8080/",
          "height": 87
        }
      },
      "cell_type": "code",
      "source": [
        "from sklearn.neighbors import KNeighborsClassifier\n",
        "from sklearn.model_selection import cross_val_score\n",
        "import time\n",
        "\n",
        "start = time.time()\n",
        "\n",
        "clf = KNeighborsClassifier()\n",
        "clf.fit(x_train, y_train)\n",
        "prediction = clf.predict(x_test)\n",
        "scores = cross_val_score(clf, x, y, cv=5)\n",
        "\n",
        "end = time.time()\n",
        "\n",
        "accuracy_all.append(accuracy_score(prediction, y_test))\n",
        "cvs_all.append(np.mean(scores))\n",
        "\n",
        "print(\"Accuracy: {0:.2%}\".format(accuracy_score(prediction, y_test)))\n",
        "print(\"Cross validation score: {0:.2%} (+/- {1:.2%})\".format(np.mean(scores), np.std(scores)*2))\n",
        "print(\"Execution time: {0:.5} seconds \\n\".format(end-start))\n"
      ],
      "execution_count": 30,
      "outputs": [
        {
          "output_type": "stream",
          "text": [
            "Accuracy: 50.00%\n",
            "Cross validation score: 40.63% (+/- 29.26%)\n",
            "Execution time: 0.039651 seconds \n",
            "\n"
          ],
          "name": "stdout"
        }
      ]
    },
    {
      "metadata": {
        "id": "ZEPvWDQ5sbiW",
        "colab_type": "text"
      },
      "cell_type": "markdown",
      "source": [
        "#### 6.5 - RandomForestClassifier"
      ]
    },
    {
      "metadata": {
        "id": "aKC7-Omosd-F",
        "colab_type": "code",
        "outputId": "6bb62f30-66a7-48e2-9228-3b7cf0cc0e51",
        "colab": {
          "base_uri": "https://localhost:8080/",
          "height": 141
        }
      },
      "cell_type": "code",
      "source": [
        "from sklearn.ensemble import RandomForestClassifier\n",
        "from sklearn.ensemble import GradientBoostingClassifier\n",
        "from sklearn.model_selection import cross_val_score\n",
        "import numpy as np\n",
        "import time\n",
        "\n",
        "start = time.time()\n",
        "clf = RandomForestClassifier(random_state=0)\n",
        "clf.fit(x_train, y_train)\n",
        "prediction = clf.predict(x_test)\n",
        "scores = cross_val_score(clf, x, y, cv=5)\n",
        "\n",
        "end = time.time()\n",
        "\n",
        "accuracy_all.append(accuracy_score(prediction, y_test))\n",
        "cvs_all.append(np.mean(scores))\n",
        "\n",
        "print(\"Random Forest Accuracy: {0:.2%}\".format(accuracy_score(prediction, y_test)))\n",
        "print(\"Cross validation score: {0:.2%} (+/- {1:.2%})\".format(np.mean(scores), np.std(scores)*2))\n",
        "print(\"Execution time: {0:.5} seconds \\n\".format(end-start))"
      ],
      "execution_count": 31,
      "outputs": [
        {
          "output_type": "stream",
          "text": [
            "Random Forest Accuracy: 78.12%\n",
            "Cross validation score: 66.91% (+/- 30.62%)\n",
            "Execution time: 0.07983 seconds \n",
            "\n"
          ],
          "name": "stdout"
        },
        {
          "output_type": "stream",
          "text": [
            "/usr/local/lib/python3.6/dist-packages/sklearn/ensemble/forest.py:246: FutureWarning: The default value of n_estimators will change from 10 in version 0.20 to 100 in 0.22.\n",
            "  \"10 in version 0.20 to 100 in 0.22.\", FutureWarning)\n"
          ],
          "name": "stderr"
        }
      ]
    },
    {
      "metadata": {
        "id": "z8SdOldr5rFW",
        "colab_type": "text"
      },
      "cell_type": "markdown",
      "source": [
        "#### 6.6 - GaussianNB"
      ]
    },
    {
      "metadata": {
        "id": "q_w2Sqif5vrG",
        "colab_type": "code",
        "outputId": "e2e0f287-a86b-4248-ad1f-37818914335f",
        "colab": {
          "base_uri": "https://localhost:8080/",
          "height": 87
        }
      },
      "cell_type": "code",
      "source": [
        "from sklearn.naive_bayes import GaussianNB\n",
        "\n",
        "start = time.time()\n",
        "\n",
        "clf = GaussianNB()\n",
        "clf.fit(x_train, y_train)\n",
        "prediction = clf.predict(x_test)\n",
        "scores = cross_val_score(clf, x, y, cv=5)\n",
        "\n",
        "end = time.time()\n",
        "\n",
        "accuracy_all.append(accuracy_score(prediction, y_test))\n",
        "cvs_all.append(np.mean(scores))\n",
        "\n",
        "print(\"Accuracy: {0:.2%}\".format(accuracy_score(prediction, y_test)))\n",
        "print(\"Cross validation score: {0:.2%} (+/- {1:.2%})\".format(np.mean(scores), np.std(scores)*2))\n",
        "print(\"Execution time: {0:.5} seconds \\n\".format(end-start))"
      ],
      "execution_count": 32,
      "outputs": [
        {
          "output_type": "stream",
          "text": [
            "Accuracy: 71.88%\n",
            "Cross validation score: 74.38% (+/- 10.24%)\n",
            "Execution time: 0.029246 seconds \n",
            "\n"
          ],
          "name": "stdout"
        }
      ]
    },
    {
      "metadata": {
        "id": "WRtkPLnPxHYq",
        "colab_type": "text"
      },
      "cell_type": "markdown",
      "source": [
        "### 7- Rankeo de los clasificadores por su performance, medido como % de aciertos."
      ]
    },
    {
      "metadata": {
        "id": "a90paX1qsey4",
        "colab_type": "code",
        "outputId": "376f08e5-80e2-4378-bd84-2c363bcc6a54",
        "colab": {
          "base_uri": "https://localhost:8080/",
          "height": 233
        }
      },
      "cell_type": "code",
      "source": [
        "index = ['KNeighbors', 'SGD', 'Ridge', 'RandomForest', 'DecisionTree', 'GaussianNB']\n",
        "d = {\"model\": index, 'accuracy_all':accuracy_all, 'cvs_all':cvs_all}\n",
        "\n",
        "df = pd.DataFrame(d, index= index)\n",
        "df"
      ],
      "execution_count": 33,
      "outputs": [
        {
          "output_type": "execute_result",
          "data": {
            "text/html": [
              "<div>\n",
              "<style scoped>\n",
              "    .dataframe tbody tr th:only-of-type {\n",
              "        vertical-align: middle;\n",
              "    }\n",
              "\n",
              "    .dataframe tbody tr th {\n",
              "        vertical-align: top;\n",
              "    }\n",
              "\n",
              "    .dataframe thead th {\n",
              "        text-align: right;\n",
              "    }\n",
              "</style>\n",
              "<table border=\"1\" class=\"dataframe\">\n",
              "  <thead>\n",
              "    <tr style=\"text-align: right;\">\n",
              "      <th></th>\n",
              "      <th>model</th>\n",
              "      <th>accuracy_all</th>\n",
              "      <th>cvs_all</th>\n",
              "    </tr>\n",
              "  </thead>\n",
              "  <tbody>\n",
              "    <tr>\n",
              "      <th>KNeighbors</th>\n",
              "      <td>KNeighbors</td>\n",
              "      <td>0.75000</td>\n",
              "      <td>0.598468</td>\n",
              "    </tr>\n",
              "    <tr>\n",
              "      <th>SGD</th>\n",
              "      <td>SGD</td>\n",
              "      <td>0.34375</td>\n",
              "      <td>0.520632</td>\n",
              "    </tr>\n",
              "    <tr>\n",
              "      <th>Ridge</th>\n",
              "      <td>Ridge</td>\n",
              "      <td>0.68750</td>\n",
              "      <td>0.800927</td>\n",
              "    </tr>\n",
              "    <tr>\n",
              "      <th>RandomForest</th>\n",
              "      <td>RandomForest</td>\n",
              "      <td>0.50000</td>\n",
              "      <td>0.406317</td>\n",
              "    </tr>\n",
              "    <tr>\n",
              "      <th>DecisionTree</th>\n",
              "      <td>DecisionTree</td>\n",
              "      <td>0.78125</td>\n",
              "      <td>0.669073</td>\n",
              "    </tr>\n",
              "    <tr>\n",
              "      <th>GaussianNB</th>\n",
              "      <td>GaussianNB</td>\n",
              "      <td>0.71875</td>\n",
              "      <td>0.743844</td>\n",
              "    </tr>\n",
              "  </tbody>\n",
              "</table>\n",
              "</div>"
            ],
            "text/plain": [
              "                     model  accuracy_all   cvs_all\n",
              "KNeighbors      KNeighbors       0.75000  0.598468\n",
              "SGD                    SGD       0.34375  0.520632\n",
              "Ridge                Ridge       0.68750  0.800927\n",
              "RandomForest  RandomForest       0.50000  0.406317\n",
              "DecisionTree  DecisionTree       0.78125  0.669073\n",
              "GaussianNB      GaussianNB       0.71875  0.743844"
            ]
          },
          "metadata": {
            "tags": []
          },
          "execution_count": 33
        }
      ]
    },
    {
      "metadata": {
        "id": "oy5E5GnDOsQC",
        "colab_type": "text"
      },
      "cell_type": "markdown",
      "source": [
        "Representamos de forma gráfica la comparación de los clasificadores según su accurance y cross validation."
      ]
    },
    {
      "metadata": {
        "id": "P7LtiytRyN8S",
        "colab_type": "code",
        "outputId": "3f124a2e-d1cd-4512-b294-1ee5aee78cc5",
        "colab": {
          "base_uri": "https://localhost:8080/",
          "height": 349
        }
      },
      "cell_type": "code",
      "source": [
        "df.plot.bar()"
      ],
      "execution_count": 34,
      "outputs": [
        {
          "output_type": "execute_result",
          "data": {
            "text/plain": [
              "<matplotlib.axes._subplots.AxesSubplot at 0x7f7fa2622860>"
            ]
          },
          "metadata": {
            "tags": []
          },
          "execution_count": 34
        },
        {
          "output_type": "display_data",
          "data": {
            "image/png": "[encoded data removed]",
            "text/plain": [
              "<Figure size 432x288 with 1 Axes>"
            ]
          },
          "metadata": {
            "tags": []
          }
        }
      ]
    },
    {
      "metadata": {
        "id": "Bd8jixAdd3ur",
        "colab_type": "text"
      },
      "cell_type": "markdown",
      "source": [
        "En Accurance nos sale mejor Decision Tree (78%), sin embargo en Cross Validation Ridge (80%). Vemos que el modelo naive nos sale bastante bien en estas dos medidas."
      ]
    }
  ]
}